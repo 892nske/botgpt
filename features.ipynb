{
 "cells": [
  {
   "cell_type": "code",
   "execution_count": 1,
   "id": "c8024180-4171-4a39-a57d-d30584bb3f24",
   "metadata": {},
   "outputs": [
    {
     "ename": "ModuleNotFoundError",
     "evalue": "No module named 'calc'",
     "output_type": "error",
     "traceback": [
      "\u001b[0;31m---------------------------------------------------------------------------\u001b[0m",
      "\u001b[0;31mModuleNotFoundError\u001b[0m                       Traceback (most recent call last)",
      "\u001b[0;32m/tmp/ipykernel_11281/2815212341.py\u001b[0m in \u001b[0;36m<module>\u001b[0;34m\u001b[0m\n\u001b[1;32m      1\u001b[0m \u001b[0;32mimport\u001b[0m \u001b[0mpandas\u001b[0m \u001b[0;32mas\u001b[0m \u001b[0mpd\u001b[0m\u001b[0;34m\u001b[0m\u001b[0;34m\u001b[0m\u001b[0m\n\u001b[1;32m      2\u001b[0m \u001b[0;32mimport\u001b[0m \u001b[0mnumpy\u001b[0m \u001b[0;32mas\u001b[0m \u001b[0mnp\u001b[0m\u001b[0;34m\u001b[0m\u001b[0;34m\u001b[0m\u001b[0m\n\u001b[0;32m----> 3\u001b[0;31m \u001b[0;32mimport\u001b[0m \u001b[0mcalc\u001b[0m\u001b[0;34m\u001b[0m\u001b[0;34m\u001b[0m\u001b[0m\n\u001b[0m",
      "\u001b[0;31mModuleNotFoundError\u001b[0m: No module named 'calc'"
     ]
    }
   ],
   "source": [
    "import pandas as pd\n",
    "import numpy as np\n"
   ]
  },
  {
   "cell_type": "code",
   "execution_count": 4,
   "id": "636b4707-a776-48e4-acad-29c3e4870e10",
   "metadata": {},
   "outputs": [],
   "source": [
    "# OHLCVデータをロード\n",
    "df = pd.read_csv('bybit_btcusdt_20210101-20230330.csv', index_col=0)"
   ]
  },
  {
   "cell_type": "code",
   "execution_count": 6,
   "id": "b6b443aa-469b-4d1f-825c-8a337feffd00",
   "metadata": {},
   "outputs": [
    {
     "name": "stdout",
     "output_type": "stream",
     "text": [
      "                   Timestamp     Open     High      Low    Close  Volume  \\\n",
      "1179469  2023-03-30 16:49:00  28235.2  28235.3  28228.0  28229.1  18.223   \n",
      "1179470  2023-03-30 16:50:00  28229.1  28241.9  28229.1  28241.0  21.137   \n",
      "1179471  2023-03-30 16:51:00  28241.0  28258.1  28241.0  28258.0  32.133   \n",
      "1179472  2023-03-30 16:52:00  28258.0  28258.6  28243.7  28243.7  64.725   \n",
      "1179473  2023-03-30 16:53:00  28243.7  28268.9  28243.7  28268.9  33.430   \n",
      "\n",
      "         SMA_short_term  SMA_long_term  \n",
      "1179469        28238.04      28243.600  \n",
      "1179470        28236.38      28242.670  \n",
      "1179471        28240.86      28243.785  \n",
      "1179472        28241.40      28245.790  \n",
      "1179473        28248.14      28246.790  \n"
     ]
    }
   ],
   "source": [
    "# 短期および長期の単純移動平均 (SMA) を計算する関数\n",
    "def calculate_sma(dataframe, column, window):\n",
    "    return dataframe[column].rolling(window=window).mean()\n",
    "\n",
    "# 短期および長期のSMAを計算して新たなカラムとして追加\n",
    "short_term_window = 5  # 短期SMAのウィンドウ期間（例：5分）\n",
    "long_term_window = 20  # 長期SMAのウィンドウ期間（例：20分）\n",
    "\n",
    "df['SMA_short_term'] = calculate_sma(df, 'Close', short_term_window)\n",
    "df['SMA_long_term'] = calculate_sma(df, 'Close', long_term_window)\n",
    "\n",
    "# 結果を表示\n",
    "print(df.tail())"
   ]
  },
  {
   "cell_type": "code",
   "execution_count": 8,
   "id": "d82a3007-0511-4b3b-8b0d-2027ec655a73",
   "metadata": {},
   "outputs": [
    {
     "name": "stdout",
     "output_type": "stream",
     "text": [
      "                   Timestamp     Open     High      Low    Close  Volume  \\\n",
      "1179469  2023-03-30 16:49:00  28235.2  28235.3  28228.0  28229.1  18.223   \n",
      "1179470  2023-03-30 16:50:00  28229.1  28241.9  28229.1  28241.0  21.137   \n",
      "1179471  2023-03-30 16:51:00  28241.0  28258.1  28241.0  28258.0  32.133   \n",
      "1179472  2023-03-30 16:52:00  28258.0  28258.6  28243.7  28243.7  64.725   \n",
      "1179473  2023-03-30 16:53:00  28243.7  28268.9  28243.7  28268.9  33.430   \n",
      "\n",
      "         SMA_short_term  SMA_long_term      BB_upper      BB_lower  BB_middle  \n",
      "1179469        28238.04      28243.600  28275.168868  28212.031132  28243.600  \n",
      "1179470        28236.38      28242.670  28273.337249  28212.002751  28242.670  \n",
      "1179471        28240.86      28243.785  28275.001879  28212.568121  28243.785  \n",
      "1179472        28241.40      28245.790  28270.641630  28220.938370  28245.790  \n",
      "1179473        28248.14      28246.790  28273.693401  28219.886599  28246.790  \n"
     ]
    }
   ],
   "source": [
    "# ボリンジャーバンドの上限、下限、中心線を計算する関数\n",
    "def calculate_bollinger_bands(dataframe, column, window, num_std_dev):\n",
    "    sma = dataframe[column].rolling(window=window).mean()\n",
    "    std_dev = dataframe[column].rolling(window=window).std()\n",
    "    \n",
    "    upper_band = sma + (std_dev * num_std_dev)\n",
    "    lower_band = sma - (std_dev * num_std_dev)\n",
    "    \n",
    "    return upper_band, lower_band, sma\n",
    "\n",
    "# ボリンジャーバンドの上限、下限、中心線を計算して新たなカラムとして追加\n",
    "window = 20  # ボリンジャーバンドのウィンドウ期間（例：20分）\n",
    "num_std_dev = 2  # 標準偏差の倍数（通常は2）\n",
    "\n",
    "df['BB_upper'], df['BB_lower'], df['BB_middle'] = calculate_bollinger_bands(df, 'Close', window, num_std_dev)\n",
    "\n",
    "# 結果を表示\n",
    "print(df.tail())"
   ]
  },
  {
   "cell_type": "code",
   "execution_count": 10,
   "id": "b8ddef4e-9e9e-4f61-bca7-c72953419aed",
   "metadata": {},
   "outputs": [
    {
     "name": "stdout",
     "output_type": "stream",
     "text": [
      "                   Timestamp     Open     High      Low    Close  Volume  \\\n",
      "1179469  2023-03-30 16:49:00  28235.2  28235.3  28228.0  28229.1  18.223   \n",
      "1179470  2023-03-30 16:50:00  28229.1  28241.9  28229.1  28241.0  21.137   \n",
      "1179471  2023-03-30 16:51:00  28241.0  28258.1  28241.0  28258.0  32.133   \n",
      "1179472  2023-03-30 16:52:00  28258.0  28258.6  28243.7  28243.7  64.725   \n",
      "1179473  2023-03-30 16:53:00  28243.7  28268.9  28243.7  28268.9  33.430   \n",
      "\n",
      "         SMA_short_term  SMA_long_term      BB_upper      BB_lower  BB_middle  \\\n",
      "1179469        28238.04      28243.600  28275.168868  28212.031132  28243.600   \n",
      "1179470        28236.38      28242.670  28273.337249  28212.002751  28242.670   \n",
      "1179471        28240.86      28243.785  28275.001879  28212.568121  28243.785   \n",
      "1179472        28241.40      28245.790  28270.641630  28220.938370  28245.790   \n",
      "1179473        28248.14      28246.790  28273.693401  28219.886599  28246.790   \n",
      "\n",
      "               RSI  \n",
      "1179469  50.659898  \n",
      "1179470  46.681295  \n",
      "1179471  50.382848  \n",
      "1179472  46.828803  \n",
      "1179473  54.917668  \n"
     ]
    }
   ],
   "source": [
    "# RSIを計算する関数\n",
    "def calculate_rsi(dataframe, column, window):\n",
    "    delta = dataframe[column].diff()\n",
    "    gain = delta.where(delta > 0, 0)\n",
    "    loss = -delta.where(delta < 0, 0)\n",
    "\n",
    "    avg_gain = gain.rolling(window=window).mean()\n",
    "    avg_loss = loss.rolling(window=window).mean()\n",
    "    \n",
    "    rs = avg_gain / avg_loss\n",
    "    rsi = 100 - (100 / (1 + rs))\n",
    "\n",
    "    return rsi\n",
    "\n",
    "# RSIを計算して新たなカラムとして追加\n",
    "window = 14  # RSIのウィンドウ期間（例：14分）\n",
    "\n",
    "df['RSI'] = calculate_rsi(df, 'Close', window)\n",
    "\n",
    "# 結果を表示\n",
    "print(df.tail())"
   ]
  },
  {
   "cell_type": "code",
   "execution_count": 11,
   "id": "9b3fd5f2-87ea-4058-a12c-ed264fea3fc4",
   "metadata": {},
   "outputs": [
    {
     "name": "stdout",
     "output_type": "stream",
     "text": [
      "                   Timestamp     Open     High      Low    Close  Volume  \\\n",
      "1179469  2023-03-30 16:49:00  28235.2  28235.3  28228.0  28229.1  18.223   \n",
      "1179470  2023-03-30 16:50:00  28229.1  28241.9  28229.1  28241.0  21.137   \n",
      "1179471  2023-03-30 16:51:00  28241.0  28258.1  28241.0  28258.0  32.133   \n",
      "1179472  2023-03-30 16:52:00  28258.0  28258.6  28243.7  28243.7  64.725   \n",
      "1179473  2023-03-30 16:53:00  28243.7  28268.9  28243.7  28268.9  33.430   \n",
      "\n",
      "         SMA_short_term  SMA_long_term      BB_upper      BB_lower  BB_middle  \\\n",
      "1179469        28238.04      28243.600  28275.168868  28212.031132  28243.600   \n",
      "1179470        28236.38      28242.670  28273.337249  28212.002751  28242.670   \n",
      "1179471        28240.86      28243.785  28275.001879  28212.568121  28243.785   \n",
      "1179472        28241.40      28245.790  28270.641630  28220.938370  28245.790   \n",
      "1179473        28248.14      28246.790  28273.693401  28219.886599  28246.790   \n",
      "\n",
      "               RSI       MACD  Signal_line  \n",
      "1179469  50.659898   9.690318    12.860266  \n",
      "1179470  46.681295   9.052406    12.098694  \n",
      "1179471  50.382848   9.805581    11.640071  \n",
      "1179472  46.828803   9.143191    11.140695  \n",
      "1179473  54.917668  10.530284    11.018613  \n"
     ]
    }
   ],
   "source": [
    "# MACDおよびシグナルラインを計算する関数\n",
    "def calculate_macd(dataframe, column, short_window, long_window, signal_window):\n",
    "    short_ema = dataframe[column].ewm(span=short_window).mean()\n",
    "    long_ema = dataframe[column].ewm(span=long_window).mean()\n",
    "\n",
    "    macd = short_ema - long_ema\n",
    "    signal_line = macd.ewm(span=signal_window).mean()\n",
    "\n",
    "    return macd, signal_line\n",
    "\n",
    "# MACDおよびシグナルラインを計算して新たなカラムとして追加\n",
    "short_window = 12  # 短期EMAのウィンドウ期間（例：12分）\n",
    "long_window = 26   # 長期EMAのウィンドウ期間（例：26分）\n",
    "signal_window = 9  # シグナルラインのウィンドウ期間（例：9分）\n",
    "\n",
    "df['MACD'], df['Signal_line'] = calculate_macd(df, 'Close', short_window, long_window, signal_window)\n",
    "\n",
    "# 結果を表示\n",
    "print(df.tail())"
   ]
  },
  {
   "cell_type": "code",
   "execution_count": 14,
   "id": "63704ab0-83d7-4ad6-8136-c0a96d313d14",
   "metadata": {},
   "outputs": [
    {
     "name": "stdout",
     "output_type": "stream",
     "text": [
      "                   Timestamp     Open     High      Low    Close  Volume  \\\n",
      "1179469  2023-03-30 16:49:00  28235.2  28235.3  28228.0  28229.1  18.223   \n",
      "1179470  2023-03-30 16:50:00  28229.1  28241.9  28229.1  28241.0  21.137   \n",
      "1179471  2023-03-30 16:51:00  28241.0  28258.1  28241.0  28258.0  32.133   \n",
      "1179472  2023-03-30 16:52:00  28258.0  28258.6  28243.7  28243.7  64.725   \n",
      "1179473  2023-03-30 16:53:00  28243.7  28268.9  28243.7  28268.9  33.430   \n",
      "\n",
      "         SMA_short_term  SMA_long_term      BB_upper      BB_lower  BB_middle  \\\n",
      "1179469        28238.04      28243.600  28275.168868  28212.031132  28243.600   \n",
      "1179470        28236.38      28242.670  28273.337249  28212.002751  28242.670   \n",
      "1179471        28240.86      28243.785  28275.001879  28212.568121  28243.785   \n",
      "1179472        28241.40      28245.790  28270.641630  28220.938370  28245.790   \n",
      "1179473        28248.14      28246.790  28273.693401  28219.886599  28246.790   \n",
      "\n",
      "               RSI       MACD  Signal_line  Historical_volatility  \n",
      "1179469  50.659898   9.690318    12.860266               0.968719  \n",
      "1179470  46.681295   9.052406    12.098694               0.893554  \n",
      "1179471  50.382848   9.805581    11.640071               0.931844  \n",
      "1179472  46.828803   9.143191    11.140695               0.956509  \n",
      "1179473  54.917668  10.530284    11.018613               1.019030  \n"
     ]
    }
   ],
   "source": [
    "# ヒストリカルボラティリティを計算する関数\n",
    "def calculate_historical_volatility(dataframe, column, window):\n",
    "    log_returns = np.log(dataframe[column] / dataframe[column].shift(1))\n",
    "    historical_volatility = log_returns.rolling(window=window).std() * np.sqrt(252) * 100\n",
    "\n",
    "    return historical_volatility\n",
    "\n",
    "# ヒストリカルボラティリティを計算して新たなカラムとして追加\n",
    "window = 14  # ヒストリカルボラティリティのウィンドウ期間（例：14分）\n",
    "\n",
    "df['Historical_volatility'] = calculate_historical_volatility(df, 'Close', window)\n",
    "\n",
    "# 結果を表示\n",
    "print(df.tail())"
   ]
  },
  {
   "cell_type": "code",
   "execution_count": 15,
   "id": "5725752a-3243-4b7a-8324-d9a22dce5758",
   "metadata": {},
   "outputs": [
    {
     "name": "stdout",
     "output_type": "stream",
     "text": [
      "Fibonacci retracement levels:\n",
      "0.0%: 28715.0\n",
      "23.599999999999998%: 28623.55\n",
      "38.2%: 28566.975\n",
      "50.0%: 28521.25\n",
      "61.8%: 28475.525\n",
      "78.60000000000001%: 28410.425\n",
      "100.0%: 28327.5\n"
     ]
    }
   ],
   "source": [
    "# フィボナッチリトレースメントを計算する関数\n",
    "def calculate_fibonacci_retracements(high, low):\n",
    "    retracement_levels = [0.0, 0.236, 0.382, 0.5, 0.618, 0.786, 1.0]\n",
    "    retracements = {}\n",
    "    \n",
    "    for level in retracement_levels:\n",
    "        retracements[level] = high - (high - low) * level\n",
    "\n",
    "    return retracements\n",
    "\n",
    "# データフレーム内の特定の範囲に対するリトレースメント水準を計算\n",
    "range_start = 100  # 範囲の開始インデックス\n",
    "range_end = 200    # 範囲の終了インデックス\n",
    "\n",
    "high = df.loc[range_start:range_end, 'High'].max()\n",
    "low = df.loc[range_start:range_end, 'Low'].min()\n",
    "\n",
    "retracements = calculate_fibonacci_retracements(high, low)\n",
    "\n",
    "# リトレースメント水準を表示\n",
    "print(\"Fibonacci retracement levels:\")\n",
    "for level, value in retracements.items():\n",
    "    print(f\"{level * 100}%: {value}\")"
   ]
  },
  {
   "cell_type": "code",
   "execution_count": 16,
   "id": "5ecc1bef-9574-4741-8c1c-023a7fa2996d",
   "metadata": {},
   "outputs": [
    {
     "name": "stdout",
     "output_type": "stream",
     "text": [
      "                   Timestamp     Open     High      Low    Close  Volume  \\\n",
      "1179469  2023-03-30 16:49:00  28235.2  28235.3  28228.0  28229.1  18.223   \n",
      "1179470  2023-03-30 16:50:00  28229.1  28241.9  28229.1  28241.0  21.137   \n",
      "1179471  2023-03-30 16:51:00  28241.0  28258.1  28241.0  28258.0  32.133   \n",
      "1179472  2023-03-30 16:52:00  28258.0  28258.6  28243.7  28243.7  64.725   \n",
      "1179473  2023-03-30 16:53:00  28243.7  28268.9  28243.7  28268.9  33.430   \n",
      "\n",
      "         SMA_short_term  SMA_long_term      BB_upper      BB_lower  BB_middle  \\\n",
      "1179469        28238.04      28243.600  28275.168868  28212.031132  28243.600   \n",
      "1179470        28236.38      28242.670  28273.337249  28212.002751  28242.670   \n",
      "1179471        28240.86      28243.785  28275.001879  28212.568121  28243.785   \n",
      "1179472        28241.40      28245.790  28270.641630  28220.938370  28245.790   \n",
      "1179473        28248.14      28246.790  28273.693401  28219.886599  28246.790   \n",
      "\n",
      "               RSI       MACD  Signal_line  Historical_volatility         %K  \\\n",
      "1179469  50.659898   9.690318    12.860266               0.968719   7.628524   \n",
      "1179470  46.681295   9.052406    12.098694               0.893554  27.363184   \n",
      "1179471  50.382848   9.805581    11.640071               0.931844  55.555556   \n",
      "1179472  46.828803   9.143191    11.140695               0.956509  31.840796   \n",
      "1179473  54.917668  10.530284    11.018613               1.019030  87.920792   \n",
      "\n",
      "                %D  \n",
      "1179469  23.290137  \n",
      "1179470  20.611789  \n",
      "1179471  30.182421  \n",
      "1179472  38.253179  \n",
      "1179473  58.439048  \n"
     ]
    }
   ],
   "source": [
    "# ストキャスティクスを計算する関数\n",
    "def calculate_stochastics(dataframe, high_col, low_col, close_col, k_window, d_window):\n",
    "    highest_high = dataframe[high_col].rolling(window=k_window).max()\n",
    "    lowest_low = dataframe[low_col].rolling(window=k_window).min()\n",
    "    \n",
    "    stoch_k = (dataframe[close_col] - lowest_low) / (highest_high - lowest_low) * 100\n",
    "    stoch_d = stoch_k.rolling(window=d_window).mean()\n",
    "\n",
    "    return stoch_k, stoch_d\n",
    "\n",
    "# ストキャスティクスを計算して新たなカラムとして追加\n",
    "k_window = 14  # %Kのウィンドウ期間（例：14分）\n",
    "d_window = 3   # %Dのウィンドウ期間（例：3分）\n",
    "\n",
    "df['%K'], df['%D'] = calculate_stochastics(df, 'High', 'Low', 'Close', k_window, d_window)\n",
    "\n",
    "# 結果を表示\n",
    "print(df.tail())"
   ]
  },
  {
   "cell_type": "code",
   "execution_count": 17,
   "id": "5d98fbde-878d-4c04-9570-4a2cc8560195",
   "metadata": {},
   "outputs": [
    {
     "name": "stdout",
     "output_type": "stream",
     "text": [
      "                   Timestamp     Open     High      Low    Close  Volume  \\\n",
      "1179469  2023-03-30 16:49:00  28235.2  28235.3  28228.0  28229.1  18.223   \n",
      "1179470  2023-03-30 16:50:00  28229.1  28241.9  28229.1  28241.0  21.137   \n",
      "1179471  2023-03-30 16:51:00  28241.0  28258.1  28241.0  28258.0  32.133   \n",
      "1179472  2023-03-30 16:52:00  28258.0  28258.6  28243.7  28243.7  64.725   \n",
      "1179473  2023-03-30 16:53:00  28243.7  28268.9  28243.7  28268.9  33.430   \n",
      "\n",
      "         SMA_short_term  SMA_long_term      BB_upper      BB_lower  BB_middle  \\\n",
      "1179469        28238.04      28243.600  28275.168868  28212.031132  28243.600   \n",
      "1179470        28236.38      28242.670  28273.337249  28212.002751  28242.670   \n",
      "1179471        28240.86      28243.785  28275.001879  28212.568121  28243.785   \n",
      "1179472        28241.40      28245.790  28270.641630  28220.938370  28245.790   \n",
      "1179473        28248.14      28246.790  28273.693401  28219.886599  28246.790   \n",
      "\n",
      "               RSI       MACD  Signal_line  Historical_volatility         %K  \\\n",
      "1179469  50.659898   9.690318    12.860266               0.968719   7.628524   \n",
      "1179470  46.681295   9.052406    12.098694               0.893554  27.363184   \n",
      "1179471  50.382848   9.805581    11.640071               0.931844  55.555556   \n",
      "1179472  46.828803   9.143191    11.140695               0.956509  31.840796   \n",
      "1179473  54.917668  10.530284    11.018613               1.019030  87.920792   \n",
      "\n",
      "                %D         OBV  \n",
      "1179469  23.290137 -195003.251  \n",
      "1179470  20.611789 -194982.114  \n",
      "1179471  30.182421 -194949.981  \n",
      "1179472  38.253179 -195014.706  \n",
      "1179473  58.439048 -194981.276  \n"
     ]
    }
   ],
   "source": [
    "# オンバランスボリュームを計算する関数\n",
    "def calculate_obv(dataframe, close_col, volume_col):\n",
    "    obv = [0]\n",
    "    \n",
    "    for i in range(1, len(dataframe)):\n",
    "        if dataframe[close_col][i] > dataframe[close_col][i-1]:\n",
    "            obv.append(obv[-1] + dataframe[volume_col][i])\n",
    "        elif dataframe[close_col][i] < dataframe[close_col][i-1]:\n",
    "            obv.append(obv[-1] - dataframe[volume_col][i])\n",
    "        else:\n",
    "            obv.append(obv[-1])\n",
    "            \n",
    "    return obv\n",
    "\n",
    "# オンバランスボリュームを計算して新たなカラムとして追加\n",
    "df['OBV'] = calculate_obv(df, 'Close', 'Volume')\n",
    "\n",
    "# 結果を表示\n",
    "print(df.tail())"
   ]
  },
  {
   "cell_type": "code",
   "execution_count": 21,
   "id": "6ff89e24-efde-4b8c-aa45-a6e988c13c83",
   "metadata": {},
   "outputs": [],
   "source": [
    "df.to_csv('bybit_btcusdt_20210101-20230330_features.csv')"
   ]
  },
  {
   "cell_type": "code",
   "execution_count": null,
   "id": "1bdc1271-c0a5-453a-9218-0673b85cfe48",
   "metadata": {},
   "outputs": [],
   "source": []
  }
 ],
 "metadata": {
  "kernelspec": {
   "display_name": "Python 3 (ipykernel)",
   "language": "python",
   "name": "python3"
  },
  "language_info": {
   "codemirror_mode": {
    "name": "ipython",
    "version": 3
   },
   "file_extension": ".py",
   "mimetype": "text/x-python",
   "name": "python",
   "nbconvert_exporter": "python",
   "pygments_lexer": "ipython3",
   "version": "3.8.12"
  }
 },
 "nbformat": 4,
 "nbformat_minor": 5
}
