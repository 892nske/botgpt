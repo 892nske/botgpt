{
 "cells": [
  {
   "cell_type": "code",
   "execution_count": 3,
   "id": "d47be99f-9ad4-4253-a50a-0b68b5c44e3a",
   "metadata": {},
   "outputs": [],
   "source": [
    "import ccxt\n",
    "import pandas as pd\n",
    "from datetime import datetime, timedelta"
   ]
  },
  {
   "cell_type": "code",
   "execution_count": 14,
   "id": "99f3c074-af98-4970-be48-6189826b2dec",
   "metadata": {},
   "outputs": [],
   "source": [
    "# bybitのAPIに接続\n",
    "exchange = ccxt.bybit()\n"
   ]
  },
  {
   "cell_type": "code",
   "execution_count": 19,
   "id": "42f427ef-4fe6-43bb-a2e7-f42920c69f47",
   "metadata": {},
   "outputs": [],
   "source": [
    "# 開始日時と終了日時を指定（ここでは例として2022年1月1日から2022年12月31日までを指定）\n",
    "start_date = datetime(2021, 1, 1)\n",
    "end_date = datetime(2023, 3, 31)\n",
    "start_timestamp = int(start_date.timestamp() * 1000)\n",
    "end_timestamp = int(end_date.timestamp() * 1000)\n",
    "\n",
    "data = []"
   ]
  },
  {
   "cell_type": "code",
   "execution_count": 20,
   "id": "99fd0829-0a7d-44a4-a9db-f3f3bddd2f47",
   "metadata": {},
   "outputs": [
    {
     "name": "stdout",
     "output_type": "stream",
     "text": [
      "            Timestamp     Open     High      Low    Close  Volume\n",
      "0 2020-12-31 15:00:00  28327.0  28345.0  28317.5  28345.0   4.788\n",
      "1 2020-12-31 15:01:00  28345.0  28364.5  28345.0  28364.5   4.115\n",
      "2 2020-12-31 15:02:00  28364.5  28395.0  28362.0  28395.0  13.706\n",
      "3 2020-12-31 15:03:00  28395.0  28450.0  28395.0  28450.0  40.293\n",
      "4 2020-12-31 15:04:00  28450.0  28461.0  28449.5  28461.0  21.905\n"
     ]
    }
   ],
   "source": [
    "while start_timestamp < end_timestamp:\n",
    "    try:\n",
    "        new_data = exchange.fetch_ohlcv('BTCUSDT', timeframe='1m', since=start_timestamp, limit=1000)\n",
    "        if new_data:\n",
    "            start_timestamp = new_data[-1][0] + 1\n",
    "            data += new_data\n",
    "        else:\n",
    "            break\n",
    "    except Exception as e:\n",
    "        print(f\"An error occurred: {e}\")\n",
    "        break\n",
    "\n",
    "# データをDataFrameに変換\n",
    "df = pd.DataFrame(data, columns=['Timestamp', 'Open', 'High', 'Low', 'Close', 'Volume'])\n",
    "df['Timestamp'] = pd.to_datetime(df['Timestamp'], unit='ms')\n",
    "\n",
    "print(df.head())"
   ]
  },
  {
   "cell_type": "code",
   "execution_count": 21,
   "id": "2b3bf425-3b2c-49d1-b6bc-d0662aadb9e7",
   "metadata": {},
   "outputs": [
    {
     "name": "stdout",
     "output_type": "stream",
     "text": [
      "                  Timestamp     Open     High      Low    Close  Volume\n",
      "1179469 2023-03-30 16:49:00  28235.2  28235.3  28228.0  28229.1  18.223\n",
      "1179470 2023-03-30 16:50:00  28229.1  28241.9  28229.1  28241.0  21.137\n",
      "1179471 2023-03-30 16:51:00  28241.0  28258.1  28241.0  28258.0  32.133\n",
      "1179472 2023-03-30 16:52:00  28258.0  28258.6  28243.7  28243.7  64.725\n",
      "1179473 2023-03-30 16:53:00  28243.7  28268.9  28243.7  28268.9  33.430\n"
     ]
    }
   ],
   "source": [
    "print(df.tail())"
   ]
  },
  {
   "cell_type": "code",
   "execution_count": 22,
   "id": "9477a8fd-5505-4ced-84cb-70781d61f2eb",
   "metadata": {},
   "outputs": [
    {
     "data": {
      "text/html": [
       "<div>\n",
       "<style scoped>\n",
       "    .dataframe tbody tr th:only-of-type {\n",
       "        vertical-align: middle;\n",
       "    }\n",
       "\n",
       "    .dataframe tbody tr th {\n",
       "        vertical-align: top;\n",
       "    }\n",
       "\n",
       "    .dataframe thead th {\n",
       "        text-align: right;\n",
       "    }\n",
       "</style>\n",
       "<table border=\"1\" class=\"dataframe\">\n",
       "  <thead>\n",
       "    <tr style=\"text-align: right;\">\n",
       "      <th></th>\n",
       "      <th>Open</th>\n",
       "      <th>High</th>\n",
       "      <th>Low</th>\n",
       "      <th>Close</th>\n",
       "      <th>Volume</th>\n",
       "    </tr>\n",
       "  </thead>\n",
       "  <tbody>\n",
       "    <tr>\n",
       "      <th>count</th>\n",
       "      <td>1.179474e+06</td>\n",
       "      <td>1.179474e+06</td>\n",
       "      <td>1.179474e+06</td>\n",
       "      <td>1.179474e+06</td>\n",
       "      <td>1.179474e+06</td>\n",
       "    </tr>\n",
       "    <tr>\n",
       "      <th>mean</th>\n",
       "      <td>3.615735e+04</td>\n",
       "      <td>3.617439e+04</td>\n",
       "      <td>3.614032e+04</td>\n",
       "      <td>3.615735e+04</td>\n",
       "      <td>7.060384e+01</td>\n",
       "    </tr>\n",
       "    <tr>\n",
       "      <th>std</th>\n",
       "      <td>1.393409e+04</td>\n",
       "      <td>1.393963e+04</td>\n",
       "      <td>1.392832e+04</td>\n",
       "      <td>1.393409e+04</td>\n",
       "      <td>2.007155e+02</td>\n",
       "    </tr>\n",
       "    <tr>\n",
       "      <th>min</th>\n",
       "      <td>1.548700e+04</td>\n",
       "      <td>1.552450e+04</td>\n",
       "      <td>1.544000e+04</td>\n",
       "      <td>1.548700e+04</td>\n",
       "      <td>0.000000e+00</td>\n",
       "    </tr>\n",
       "    <tr>\n",
       "      <th>25%</th>\n",
       "      <td>2.233340e+04</td>\n",
       "      <td>2.233950e+04</td>\n",
       "      <td>2.232820e+04</td>\n",
       "      <td>2.233340e+04</td>\n",
       "      <td>1.076400e+01</td>\n",
       "    </tr>\n",
       "    <tr>\n",
       "      <th>50%</th>\n",
       "      <td>3.658450e+04</td>\n",
       "      <td>3.661000e+04</td>\n",
       "      <td>3.655850e+04</td>\n",
       "      <td>3.658450e+04</td>\n",
       "      <td>2.666500e+01</td>\n",
       "    </tr>\n",
       "    <tr>\n",
       "      <th>75%</th>\n",
       "      <td>4.710200e+04</td>\n",
       "      <td>4.712250e+04</td>\n",
       "      <td>4.708400e+04</td>\n",
       "      <td>4.710200e+04</td>\n",
       "      <td>6.562975e+01</td>\n",
       "    </tr>\n",
       "    <tr>\n",
       "      <th>max</th>\n",
       "      <td>6.909500e+04</td>\n",
       "      <td>6.913850e+04</td>\n",
       "      <td>6.884250e+04</td>\n",
       "      <td>6.909500e+04</td>\n",
       "      <td>2.702585e+04</td>\n",
       "    </tr>\n",
       "  </tbody>\n",
       "</table>\n",
       "</div>"
      ],
      "text/plain": [
       "               Open          High           Low         Close        Volume\n",
       "count  1.179474e+06  1.179474e+06  1.179474e+06  1.179474e+06  1.179474e+06\n",
       "mean   3.615735e+04  3.617439e+04  3.614032e+04  3.615735e+04  7.060384e+01\n",
       "std    1.393409e+04  1.393963e+04  1.392832e+04  1.393409e+04  2.007155e+02\n",
       "min    1.548700e+04  1.552450e+04  1.544000e+04  1.548700e+04  0.000000e+00\n",
       "25%    2.233340e+04  2.233950e+04  2.232820e+04  2.233340e+04  1.076400e+01\n",
       "50%    3.658450e+04  3.661000e+04  3.655850e+04  3.658450e+04  2.666500e+01\n",
       "75%    4.710200e+04  4.712250e+04  4.708400e+04  4.710200e+04  6.562975e+01\n",
       "max    6.909500e+04  6.913850e+04  6.884250e+04  6.909500e+04  2.702585e+04"
      ]
     },
     "execution_count": 22,
     "metadata": {},
     "output_type": "execute_result"
    }
   ],
   "source": [
    "df.describe()"
   ]
  },
  {
   "cell_type": "code",
   "execution_count": 23,
   "id": "a0653bb1-6944-4aaa-8197-70a609904c31",
   "metadata": {},
   "outputs": [],
   "source": [
    "df.to_csv('bybit_btcusdt_20210101-20230330.csv')"
   ]
  },
  {
   "cell_type": "code",
   "execution_count": null,
   "id": "c114ebaa-af31-45a3-a3da-02fc7653b248",
   "metadata": {},
   "outputs": [],
   "source": []
  }
 ],
 "metadata": {
  "kernelspec": {
   "display_name": "Python 3 (ipykernel)",
   "language": "python",
   "name": "python3"
  },
  "language_info": {
   "codemirror_mode": {
    "name": "ipython",
    "version": 3
   },
   "file_extension": ".py",
   "mimetype": "text/x-python",
   "name": "python",
   "nbconvert_exporter": "python",
   "pygments_lexer": "ipython3",
   "version": "3.8.12"
  }
 },
 "nbformat": 4,
 "nbformat_minor": 5
}
