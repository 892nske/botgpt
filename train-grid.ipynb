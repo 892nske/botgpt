{
 "cells": [
  {
   "cell_type": "code",
   "execution_count": 1,
   "id": "63cda999-064a-4191-9739-6f91b4257275",
   "metadata": {},
   "outputs": [],
   "source": [
    "import pandas as pd\n",
    "import numpy as np\n",
    "import lightgbm as lgb\n",
    "from sklearn.model_selection import train_test_split\n",
    "from sklearn.metrics import accuracy_score, classification_report\n",
    "from sklearn.model_selection import GridSearchCV, TimeSeriesSplit\n",
    "from sklearn.metrics import mean_squared_error"
   ]
  },
  {
   "cell_type": "code",
   "execution_count": 5,
   "id": "a5e9606b-14f5-4d86-b315-250923aaed33",
   "metadata": {},
   "outputs": [],
   "source": [
    "# 特徴量データをロード\n",
    "df = pd.read_csv('bybit_ethusdt_20230101-20230330_features.csv', index_col=0)"
   ]
  },
  {
   "cell_type": "code",
   "execution_count": 6,
   "id": "6df56df4-3bfd-459d-adb7-7481e6c8c2ae",
   "metadata": {},
   "outputs": [],
   "source": [
    "\n",
    "# ターゲット変数の作成\n",
    "price_change = (df['Close'].shift(-1) / df['Close'] - 1) * 100\n",
    "conditions = [\n",
    "    (price_change >= 0.1),\n",
    "    (price_change <= -0.1)\n",
    "]\n",
    "choices = ['up', 'down']\n",
    "df['target'] = np.select(conditions, choices, default='neutral')\n",
    "\n",
    "df['target'], _ = pd.factorize(df['target'])\n",
    "\n",
    "# 不要な列を削除\n",
    "df = df.drop(['Timestamp', 'Open', 'High', 'Low', 'Close', 'Volume'], axis=1).dropna()\n"
   ]
  },
  {
   "cell_type": "code",
   "execution_count": 7,
   "id": "d1bb528b-177b-4798-bc56-048f2bfac265",
   "metadata": {},
   "outputs": [],
   "source": [
    "# データセットをトレーニングセットとテストセットに分割\n",
    "X = df.drop('target', axis=1)\n",
    "y = df['target']\n",
    "\n",
    "# データセットの長さ\n",
    "n = len(df)\n",
    "\n",
    "# トレーニングセットとテストセットの分割点\n",
    "split_point = int(n * 0.8)\n",
    "\n",
    "# トレーニングデータとテストデータに分割\n",
    "X_train = X[:split_point]\n",
    "X_test = X[split_point:]\n",
    "y_train = y[:split_point]\n",
    "y_test = y[split_point:]\n"
   ]
  },
  {
   "cell_type": "code",
   "execution_count": 22,
   "id": "4dec08c6-7dc2-459c-bf7e-c0652720a457",
   "metadata": {},
   "outputs": [
    {
     "name": "stdout",
     "output_type": "stream",
     "text": [
      "Best parameters found by grid search are: {'learning_rate': 0.01, 'num_leaves': 31}\n"
     ]
    }
   ],
   "source": [
    "# LightGBMモデルのトレーニング\n",
    "train_data = lgb.Dataset(X_train, label=y_train)\n",
    "test_data = lgb.Dataset(X_test, label=y_test)\n",
    "\n",
    "# LightGBMの回帰モデルを初期化\n",
    "model = lgb.LGBMClassifier()\n",
    "\n",
    "# チューニングするハイパーパラメータを設定\n",
    "param_grid = {\n",
    "    'num_leaves': [31, 50, 100,200],\n",
    "    'learning_rate': [0.001, 0.01, 0.1]\n",
    "}\n",
    "\n",
    "# 時系列データに適したクロスバリデーションを設定\n",
    "tscv = TimeSeriesSplit(n_splits=10)\n",
    "\n",
    "# GridSearchCVを初期化（時系列分割を使用）\n",
    "grid = GridSearchCV(model, param_grid, cv=tscv, scoring='neg_log_loss')\n",
    "\n",
    "# チューニングを実行\n",
    "grid.fit(X_train, y_train)\n",
    "\n",
    "# 最適なパラメータを表示\n",
    "print(\"Best parameters found by grid search are:\", grid.best_params_)\n"
   ]
  },
  {
   "cell_type": "code",
   "execution_count": 20,
   "id": "e3947b30-760f-40c2-8746-e08c5b157370",
   "metadata": {},
   "outputs": [
    {
     "name": "stdout",
     "output_type": "stream",
     "text": [
      "Test Accuracy: 0.8227853013076715\n"
     ]
    }
   ],
   "source": [
    "# 最適なパラメータでモデルを再トレーニング\n",
    "best_model = grid.best_estimator_\n",
    "best_model.fit(X_train, y_train)\n",
    "\n",
    "# テストデータで評価\n",
    "y_pred = best_model.predict(X_test)\n",
    "accuracy = accuracy_score(y_test, y_pred)\n",
    "print(f'Test Accuracy: {accuracy}')"
   ]
  },
  {
   "cell_type": "code",
   "execution_count": 21,
   "id": "7809ea55-a54a-498b-bb05-79c8500c6a69",
   "metadata": {},
   "outputs": [
    {
     "name": "stdout",
     "output_type": "stream",
     "text": [
      "Classification report:\n",
      "              precision    recall  f1-score   support\n",
      "\n",
      "           0       0.82      1.00      0.90     21204\n",
      "           1       0.00      0.00      0.00      2245\n",
      "           2       0.00      0.00      0.00      2322\n",
      "\n",
      "    accuracy                           0.82     25771\n",
      "   macro avg       0.27      0.33      0.30     25771\n",
      "weighted avg       0.68      0.82      0.74     25771\n",
      "\n"
     ]
    },
    {
     "name": "stderr",
     "output_type": "stream",
     "text": [
      "/home/nske/miniconda3/envs/jp38/lib/python3.8/site-packages/sklearn/metrics/_classification.py:1308: UndefinedMetricWarning: Precision and F-score are ill-defined and being set to 0.0 in labels with no predicted samples. Use `zero_division` parameter to control this behavior.\n",
      "  _warn_prf(average, modifier, msg_start, len(result))\n",
      "/home/nske/miniconda3/envs/jp38/lib/python3.8/site-packages/sklearn/metrics/_classification.py:1308: UndefinedMetricWarning: Precision and F-score are ill-defined and being set to 0.0 in labels with no predicted samples. Use `zero_division` parameter to control this behavior.\n",
      "  _warn_prf(average, modifier, msg_start, len(result))\n",
      "/home/nske/miniconda3/envs/jp38/lib/python3.8/site-packages/sklearn/metrics/_classification.py:1308: UndefinedMetricWarning: Precision and F-score are ill-defined and being set to 0.0 in labels with no predicted samples. Use `zero_division` parameter to control this behavior.\n",
      "  _warn_prf(average, modifier, msg_start, len(result))\n"
     ]
    }
   ],
   "source": [
    "print(\"Classification report:\")\n",
    "print(classification_report(y_test, y_pred))"
   ]
  },
  {
   "cell_type": "code",
   "execution_count": 18,
   "id": "30ce8173-6011-4506-aa74-0f8e3694b2dd",
   "metadata": {},
   "outputs": [
    {
     "data": {
      "text/plain": [
       "array([25771])"
      ]
     },
     "execution_count": 18,
     "metadata": {},
     "output_type": "execute_result"
    }
   ],
   "source": [
    "np.bincount(y_pred)"
   ]
  },
  {
   "cell_type": "code",
   "execution_count": 5,
   "id": "d131ddad-c42a-44ff-8c29-135ee00063f3",
   "metadata": {},
   "outputs": [
    {
     "name": "stderr",
     "output_type": "stream",
     "text": [
      "/home/nske/miniconda3/envs/jp38/lib/python3.8/site-packages/lightgbm/engine.py:181: UserWarning: 'early_stopping_rounds' argument is deprecated and will be removed in a future release of LightGBM. Pass 'early_stopping()' callback via 'callbacks' argument instead.\n",
      "  _log_warning(\"'early_stopping_rounds' argument is deprecated and will be removed in a future release of LightGBM. \"\n"
     ]
    },
    {
     "name": "stdout",
     "output_type": "stream",
     "text": [
      "[LightGBM] [Warning] Auto-choosing col-wise multi-threading, the overhead of testing was 0.013079 seconds.\n",
      "You can set `force_col_wise=true` to remove the overhead.\n",
      "[LightGBM] [Info] Total Bins 5610\n",
      "[LightGBM] [Info] Number of data points in the train set: 103082, number of used features: 22\n",
      "[LightGBM] [Info] Start training from score -0.108597\n",
      "[LightGBM] [Info] Start training from score -2.997111\n",
      "[LightGBM] [Info] Start training from score -2.937893\n",
      "[1]\tvalid_0's multi_logloss: 0.598115\n",
      "Training until validation scores don't improve for 100 rounds\n",
      "[2]\tvalid_0's multi_logloss: 0.585092\n",
      "[3]\tvalid_0's multi_logloss: 0.574754\n",
      "[4]\tvalid_0's multi_logloss: 0.566571\n",
      "[5]\tvalid_0's multi_logloss: 0.559772\n",
      "[6]\tvalid_0's multi_logloss: 0.554081\n",
      "[7]\tvalid_0's multi_logloss: 0.549353\n",
      "[8]\tvalid_0's multi_logloss: 0.545714\n",
      "[9]\tvalid_0's multi_logloss: 0.542207\n",
      "[10]\tvalid_0's multi_logloss: 0.539142\n",
      "[11]\tvalid_0's multi_logloss: 0.536721\n",
      "[12]\tvalid_0's multi_logloss: 0.534368\n",
      "[13]\tvalid_0's multi_logloss: 0.532379\n",
      "[14]\tvalid_0's multi_logloss: 0.530635\n",
      "[15]\tvalid_0's multi_logloss: 0.529062\n",
      "[16]\tvalid_0's multi_logloss: 0.527922\n",
      "[17]\tvalid_0's multi_logloss: 0.526644\n",
      "[18]\tvalid_0's multi_logloss: 0.525603\n",
      "[19]\tvalid_0's multi_logloss: 0.524964\n",
      "[20]\tvalid_0's multi_logloss: 0.524045\n",
      "[21]\tvalid_0's multi_logloss: 0.523299\n",
      "[22]\tvalid_0's multi_logloss: 0.522877\n",
      "[23]\tvalid_0's multi_logloss: 0.522178\n",
      "[24]\tvalid_0's multi_logloss: 0.521705\n",
      "[25]\tvalid_0's multi_logloss: 0.521128\n",
      "[26]\tvalid_0's multi_logloss: 0.520757\n",
      "[27]\tvalid_0's multi_logloss: 0.520332\n",
      "[28]\tvalid_0's multi_logloss: 0.519963\n",
      "[29]\tvalid_0's multi_logloss: 0.519634\n",
      "[30]\tvalid_0's multi_logloss: 0.519493\n",
      "[31]\tvalid_0's multi_logloss: 0.519527\n",
      "[32]\tvalid_0's multi_logloss: 0.519502\n",
      "[33]\tvalid_0's multi_logloss: 0.51937\n",
      "[34]\tvalid_0's multi_logloss: 0.51913\n",
      "[35]\tvalid_0's multi_logloss: 0.518945\n",
      "[36]\tvalid_0's multi_logloss: 0.518659\n",
      "[37]\tvalid_0's multi_logloss: 0.518855\n",
      "[38]\tvalid_0's multi_logloss: 0.519017\n",
      "[39]\tvalid_0's multi_logloss: 0.518993\n",
      "[40]\tvalid_0's multi_logloss: 0.519083\n",
      "[41]\tvalid_0's multi_logloss: 0.519038\n",
      "[42]\tvalid_0's multi_logloss: 0.518933\n",
      "[43]\tvalid_0's multi_logloss: 0.518832\n",
      "[44]\tvalid_0's multi_logloss: 0.518692\n",
      "[45]\tvalid_0's multi_logloss: 0.518734\n",
      "[46]\tvalid_0's multi_logloss: 0.51863\n",
      "[47]\tvalid_0's multi_logloss: 0.518571\n",
      "[48]\tvalid_0's multi_logloss: 0.518516\n",
      "[49]\tvalid_0's multi_logloss: 0.518452\n",
      "[50]\tvalid_0's multi_logloss: 0.518404\n",
      "[51]\tvalid_0's multi_logloss: 0.518378\n",
      "[52]\tvalid_0's multi_logloss: 0.518431\n",
      "[53]\tvalid_0's multi_logloss: 0.518361\n",
      "[54]\tvalid_0's multi_logloss: 0.518291\n",
      "[55]\tvalid_0's multi_logloss: 0.518243\n",
      "[56]\tvalid_0's multi_logloss: 0.518225\n",
      "[57]\tvalid_0's multi_logloss: 0.518231\n",
      "[58]\tvalid_0's multi_logloss: 0.518265\n",
      "[59]\tvalid_0's multi_logloss: 0.518356\n",
      "[60]\tvalid_0's multi_logloss: 0.518374\n",
      "[61]\tvalid_0's multi_logloss: 0.518379\n",
      "[62]\tvalid_0's multi_logloss: 0.51837\n",
      "[63]\tvalid_0's multi_logloss: 0.518379\n",
      "[64]\tvalid_0's multi_logloss: 0.518369\n",
      "[65]\tvalid_0's multi_logloss: 0.518418\n",
      "[66]\tvalid_0's multi_logloss: 0.518533\n",
      "[67]\tvalid_0's multi_logloss: 0.518529\n",
      "[68]\tvalid_0's multi_logloss: 0.518562\n",
      "[69]\tvalid_0's multi_logloss: 0.518636\n",
      "[70]\tvalid_0's multi_logloss: 0.518647\n",
      "[71]\tvalid_0's multi_logloss: 0.518626\n",
      "[72]\tvalid_0's multi_logloss: 0.51863\n",
      "[73]\tvalid_0's multi_logloss: 0.518644\n",
      "[74]\tvalid_0's multi_logloss: 0.518588\n",
      "[75]\tvalid_0's multi_logloss: 0.518579\n",
      "[76]\tvalid_0's multi_logloss: 0.518625\n",
      "[77]\tvalid_0's multi_logloss: 0.518646\n",
      "[78]\tvalid_0's multi_logloss: 0.518866\n",
      "[79]\tvalid_0's multi_logloss: 0.518854\n",
      "[80]\tvalid_0's multi_logloss: 0.519556\n",
      "[81]\tvalid_0's multi_logloss: 0.519577\n",
      "[82]\tvalid_0's multi_logloss: 0.519613\n",
      "[83]\tvalid_0's multi_logloss: 0.519596\n",
      "[84]\tvalid_0's multi_logloss: 0.51999\n",
      "[85]\tvalid_0's multi_logloss: 0.520021\n",
      "[86]\tvalid_0's multi_logloss: 0.520029\n",
      "[87]\tvalid_0's multi_logloss: 0.520068\n",
      "[88]\tvalid_0's multi_logloss: 0.520066\n",
      "[89]\tvalid_0's multi_logloss: 0.519931\n",
      "[90]\tvalid_0's multi_logloss: 0.520326\n",
      "[91]\tvalid_0's multi_logloss: 0.520664\n",
      "[92]\tvalid_0's multi_logloss: 0.520706\n",
      "[93]\tvalid_0's multi_logloss: 0.52098\n",
      "[94]\tvalid_0's multi_logloss: 0.52098\n",
      "[95]\tvalid_0's multi_logloss: 0.521024\n",
      "[96]\tvalid_0's multi_logloss: 0.521076\n",
      "[97]\tvalid_0's multi_logloss: 0.521073\n",
      "[98]\tvalid_0's multi_logloss: 0.521617\n",
      "[99]\tvalid_0's multi_logloss: 0.521615\n",
      "[100]\tvalid_0's multi_logloss: 0.521657\n",
      "[101]\tvalid_0's multi_logloss: 0.52166\n",
      "[102]\tvalid_0's multi_logloss: 0.522056\n",
      "[103]\tvalid_0's multi_logloss: 0.522073\n",
      "[104]\tvalid_0's multi_logloss: 0.522195\n",
      "[105]\tvalid_0's multi_logloss: 0.522212\n",
      "[106]\tvalid_0's multi_logloss: 0.522267\n",
      "[107]\tvalid_0's multi_logloss: 0.522299\n",
      "[108]\tvalid_0's multi_logloss: 0.52232\n",
      "[109]\tvalid_0's multi_logloss: 0.52314\n",
      "[110]\tvalid_0's multi_logloss: 0.523184\n",
      "[111]\tvalid_0's multi_logloss: 0.523222\n",
      "[112]\tvalid_0's multi_logloss: 0.523208\n",
      "[113]\tvalid_0's multi_logloss: 0.523201\n",
      "[114]\tvalid_0's multi_logloss: 0.523187\n",
      "[115]\tvalid_0's multi_logloss: 0.523269\n",
      "[116]\tvalid_0's multi_logloss: 0.523277\n",
      "[117]\tvalid_0's multi_logloss: 0.523879\n",
      "[118]\tvalid_0's multi_logloss: 0.523933\n",
      "[119]\tvalid_0's multi_logloss: 0.523954\n",
      "[120]\tvalid_0's multi_logloss: 0.524026\n",
      "[121]\tvalid_0's multi_logloss: 0.52404\n",
      "[122]\tvalid_0's multi_logloss: 0.524024\n",
      "[123]\tvalid_0's multi_logloss: 0.524364\n",
      "[124]\tvalid_0's multi_logloss: 0.524386\n",
      "[125]\tvalid_0's multi_logloss: 0.524392\n",
      "[126]\tvalid_0's multi_logloss: 0.524418\n",
      "[127]\tvalid_0's multi_logloss: 0.524585\n",
      "[128]\tvalid_0's multi_logloss: 0.52459\n",
      "[129]\tvalid_0's multi_logloss: 0.524623\n",
      "[130]\tvalid_0's multi_logloss: 0.524608\n",
      "[131]\tvalid_0's multi_logloss: 0.524769\n",
      "[132]\tvalid_0's multi_logloss: 0.524824\n",
      "[133]\tvalid_0's multi_logloss: 0.525818\n",
      "[134]\tvalid_0's multi_logloss: 0.525886\n",
      "[135]\tvalid_0's multi_logloss: 0.52591\n",
      "[136]\tvalid_0's multi_logloss: 0.52595\n",
      "[137]\tvalid_0's multi_logloss: 0.526098\n",
      "[138]\tvalid_0's multi_logloss: 0.526148\n",
      "[139]\tvalid_0's multi_logloss: 0.526295\n",
      "[140]\tvalid_0's multi_logloss: 0.526318\n",
      "[141]\tvalid_0's multi_logloss: 0.526325\n",
      "[142]\tvalid_0's multi_logloss: 0.526341\n",
      "[143]\tvalid_0's multi_logloss: 0.526538\n",
      "[144]\tvalid_0's multi_logloss: 0.526567\n",
      "[145]\tvalid_0's multi_logloss: 0.526574\n",
      "[146]\tvalid_0's multi_logloss: 0.526572\n",
      "[147]\tvalid_0's multi_logloss: 0.526583\n",
      "[148]\tvalid_0's multi_logloss: 0.526597\n",
      "[149]\tvalid_0's multi_logloss: 0.526611\n",
      "[150]\tvalid_0's multi_logloss: 0.52662\n",
      "[151]\tvalid_0's multi_logloss: 0.526652\n",
      "[152]\tvalid_0's multi_logloss: 0.526654\n",
      "[153]\tvalid_0's multi_logloss: 0.527751\n",
      "[154]\tvalid_0's multi_logloss: 0.527778\n",
      "[155]\tvalid_0's multi_logloss: 0.527784\n",
      "[156]\tvalid_0's multi_logloss: 0.527835\n",
      "Early stopping, best iteration is:\n",
      "[56]\tvalid_0's multi_logloss: 0.518225\n"
     ]
    }
   ],
   "source": [
    "# LightGBMモデルのトレーニング\n",
    "train_data = lgb.Dataset(X_train, label=y_train)\n",
    "test_data = lgb.Dataset(X_test, label=y_test)\n",
    "\n",
    "params = {\n",
    "    'objective': 'multiclass',\n",
    "    'num_class': 3,\n",
    "    'metric': 'multi_logloss',\n",
    "    'boosting_type': 'gbdt',\n",
    "    'num_leaves': 31,\n",
    "    'learning_rate': 0.05,\n",
    "    'feature_fraction': 0.9\n",
    "}\n",
    "\n",
    "model = lgb.train(params, train_data, valid_sets=[test_data], num_boost_round=1000, early_stopping_rounds=100)\n",
    "\n",
    "# 予測と評価\n",
    "y_pred = model.predict(X_test)\n",
    "y_pred_class = [np.argmax(pred) for pred in y_pred]\n",
    "class_map = {'up': 0, 'neutral': 1, 'down': 2}\n",
    "y_test_mapped = y_test.map(class_map).values\n",
    "\n"
   ]
  },
  {
   "cell_type": "code",
   "execution_count": 6,
   "id": "c945581e-51f5-41e7-b2d8-2c78d93ecb47",
   "metadata": {},
   "outputs": [
    {
     "name": "stdout",
     "output_type": "stream",
     "text": [
      "Accuracy: 0.8243374335493384\n",
      "Classification report:\n",
      "              precision    recall  f1-score   support\n",
      "\n",
      "           0       0.83      1.00      0.90     21204\n",
      "           1       0.51      0.02      0.04      2245\n",
      "           2       0.40      0.02      0.04      2322\n",
      "\n",
      "    accuracy                           0.82     25771\n",
      "   macro avg       0.58      0.35      0.33     25771\n",
      "weighted avg       0.76      0.82      0.75     25771\n",
      "\n"
     ]
    }
   ],
   "source": [
    "accuracy = accuracy_score(y_test, y_pred_class)\n",
    "print(f\"Accuracy: {accuracy}\")\n",
    "\n",
    "print(\"Classification report:\")\n",
    "print(classification_report(y_test, y_pred_class))"
   ]
  },
  {
   "cell_type": "code",
   "execution_count": 13,
   "id": "230f8b65-fe69-46f7-aff9-dd7229dd580d",
   "metadata": {},
   "outputs": [],
   "source": [
    "import pickle\n",
    "filename = 'ethusdt_lightgbm_model.pkl'\n",
    "pickle.dump(model,open(filename,'wb'))"
   ]
  },
  {
   "cell_type": "code",
   "execution_count": null,
   "id": "58645354-2d66-44da-bf5f-68d882c0b3b0",
   "metadata": {},
   "outputs": [],
   "source": []
  }
 ],
 "metadata": {
  "kernelspec": {
   "display_name": "Python 3 (ipykernel)",
   "language": "python",
   "name": "python3"
  },
  "language_info": {
   "codemirror_mode": {
    "name": "ipython",
    "version": 3
   },
   "file_extension": ".py",
   "mimetype": "text/x-python",
   "name": "python",
   "nbconvert_exporter": "python",
   "pygments_lexer": "ipython3",
   "version": "3.8.12"
  }
 },
 "nbformat": 4,
 "nbformat_minor": 5
}
