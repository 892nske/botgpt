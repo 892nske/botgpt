{
 "cells": [
  {
   "cell_type": "code",
   "execution_count": 1,
   "id": "4b96d7fa-4c0b-4549-b0dc-a7357a38abe4",
   "metadata": {},
   "outputs": [],
   "source": [
    "import pickle\n",
    "import pandas as pd\n",
    "import numpy as np\n",
    "import requests\n",
    "import calc"
   ]
  },
  {
   "cell_type": "code",
   "execution_count": 2,
   "id": "4ef66be1-c4e3-458d-9c39-f470447dec98",
   "metadata": {},
   "outputs": [],
   "source": [
    "filename = 'btcusdr_lightgbm_model.pkl'\n",
    "# 保存したモデルの読み込み\n",
    "model = pickle.load(open(filename, 'rb'))"
   ]
  },
  {
   "cell_type": "code",
   "execution_count": 24,
   "id": "2fe9e5a0-d6ce-4988-bd43-017239fe4953",
   "metadata": {},
   "outputs": [],
   "source": [
    "rsp = requests.get('https://api.bybit.com/v5/market/kline?category=linear&symbol=BTCUSDT&interval=1').json()\n",
    "results = rsp['result']\n",
    "df = pd.DataFrame(results['list'],columns=['startTime','Open','High','Low','Close','Volume','turnover'])"
   ]
  },
  {
   "cell_type": "code",
   "execution_count": 25,
   "id": "a718b1e3-a98f-4b2a-bf79-32f2cac5d753",
   "metadata": {},
   "outputs": [],
   "source": [
    "df[\"startTime\"]=df[\"startTime\"].astype(float)\n",
    "df[\"Open\"]=df[\"Open\"].astype(float)\n",
    "df[\"High\"]=df[\"High\"].astype(float)\n",
    "df[\"Low\"]=df[\"Low\"].astype(float)\n",
    "df[\"Close\"]=df[\"Close\"].astype(float)\n",
    "df[\"Volume\"]=df[\"Volume\"].astype(float)"
   ]
  },
  {
   "cell_type": "code",
   "execution_count": 26,
   "id": "4a1069f7-a1a0-4822-98b4-2351f50c49f3",
   "metadata": {},
   "outputs": [],
   "source": [
    "# 先頭行を削除\n",
    "df = df.drop(df.index[0])\n",
    "df.reset_index(inplace=True, drop=True)\n",
    "\n",
    "# 時間でソート\n",
    "df = df.sort_values('startTime')\n",
    "\n",
    "# Timestamp列を追加\n",
    "df['Timestamp'] = pd.to_datetime(df['startTime'], unit='ms')\n"
   ]
  },
  {
   "cell_type": "code",
   "execution_count": 27,
   "id": "d0544d84-c265-4f1b-8c51-51c8ac0fddb7",
   "metadata": {},
   "outputs": [
    {
     "name": "stdout",
     "output_type": "stream",
     "text": [
      "      startTime     Open     High      Low    Close    Volume       turnover  \\\n",
      "4  1.699547e+12  36530.1  36621.3  36481.0  36545.0   995.140   36378978.228   \n",
      "3  1.699547e+12  36545.0  36737.6  36506.0  36703.8   717.369  26289545.0936   \n",
      "2  1.699547e+12  36703.8  36728.8  36620.0  36625.8   608.348  22319278.1389   \n",
      "1  1.699547e+12  36625.8  36661.7  36571.6  36587.9   975.351  35709916.6563   \n",
      "0  1.699547e+12  36587.9  36735.9  36587.9  36688.1  1035.130  37977385.1119   \n",
      "\n",
      "            Timestamp  SMA_short_term  SMA_long_term  \n",
      "4 2023-11-09 16:17:00        36573.34      36894.500  \n",
      "3 2023-11-09 16:18:00        36619.58      36873.190  \n",
      "2 2023-11-09 16:19:00        36621.12      36847.320  \n",
      "1 2023-11-09 16:20:00        36598.52      36816.090  \n",
      "0 2023-11-09 16:21:00        36630.12      36788.895  \n"
     ]
    }
   ],
   "source": [
    "# 短期および長期のSMAを計算して新たなカラムとして追加\n",
    "short_term_window = 5  # 短期SMAのウィンドウ期間（例：5分）\n",
    "long_term_window = 20  # 長期SMAのウィンドウ期間（例：20分）\n",
    "\n",
    "df['SMA_short_term'] = calc.calculate_sma(df, 'Close', short_term_window)\n",
    "df['SMA_long_term'] = calc.calculate_sma(df, 'Close', long_term_window)\n",
    "\n",
    "# 結果を表示\n",
    "print(df.tail())"
   ]
  },
  {
   "cell_type": "code",
   "execution_count": 28,
   "id": "e7c2463c-58a3-4734-bc3e-367bcdc6205b",
   "metadata": {},
   "outputs": [
    {
     "name": "stdout",
     "output_type": "stream",
     "text": [
      "      startTime     Open     High      Low    Close    Volume       turnover  \\\n",
      "4  1.699547e+12  36530.1  36621.3  36481.0  36545.0   995.140   36378978.228   \n",
      "3  1.699547e+12  36545.0  36737.6  36506.0  36703.8   717.369  26289545.0936   \n",
      "2  1.699547e+12  36703.8  36728.8  36620.0  36625.8   608.348  22319278.1389   \n",
      "1  1.699547e+12  36625.8  36661.7  36571.6  36587.9   975.351  35709916.6563   \n",
      "0  1.699547e+12  36587.9  36735.9  36587.9  36688.1  1035.130  37977385.1119   \n",
      "\n",
      "            Timestamp  SMA_short_term  SMA_long_term      BB_upper  \\\n",
      "4 2023-11-09 16:17:00        36573.34      36894.500  37482.264403   \n",
      "3 2023-11-09 16:18:00        36619.58      36873.190  37455.886479   \n",
      "2 2023-11-09 16:19:00        36621.12      36847.320  37425.466478   \n",
      "1 2023-11-09 16:20:00        36598.52      36816.090  37378.442101   \n",
      "0 2023-11-09 16:21:00        36630.12      36788.895  37318.194121   \n",
      "\n",
      "       BB_lower  BB_middle  \n",
      "4  36306.735597  36894.500  \n",
      "3  36290.493521  36873.190  \n",
      "2  36269.173522  36847.320  \n",
      "1  36253.737899  36816.090  \n",
      "0  36259.595879  36788.895  \n"
     ]
    }
   ],
   "source": [
    "# ボリンジャーバンドの上限、下限、中心線を計算して新たなカラムとして追加\n",
    "window = 20  # ボリンジャーバンドのウィンドウ期間（例：20分）\n",
    "num_std_dev = 2  # 標準偏差の倍数（通常は2）\n",
    "\n",
    "df['BB_upper'], df['BB_lower'], df['BB_middle'] = calc.calculate_bollinger_bands(df, 'Close', window, num_std_dev)\n",
    "\n",
    "# 結果を表示\n",
    "print(df.tail())"
   ]
  },
  {
   "cell_type": "code",
   "execution_count": 29,
   "id": "66ce8525-4c5d-4b57-9294-f03e5ba47e42",
   "metadata": {},
   "outputs": [
    {
     "data": {
      "text/plain": [
       "startTime                float64\n",
       "Open                     float64\n",
       "High                     float64\n",
       "Low                      float64\n",
       "Close                    float64\n",
       "Volume                   float64\n",
       "turnover                  object\n",
       "Timestamp         datetime64[ns]\n",
       "SMA_short_term           float64\n",
       "SMA_long_term            float64\n",
       "BB_upper                 float64\n",
       "BB_lower                 float64\n",
       "BB_middle                float64\n",
       "dtype: object"
      ]
     },
     "execution_count": 29,
     "metadata": {},
     "output_type": "execute_result"
    }
   ],
   "source": [
    "df.dtypes"
   ]
  },
  {
   "cell_type": "code",
   "execution_count": 30,
   "id": "1e25ac6b-a8b6-4ca6-80ad-af53194be42c",
   "metadata": {},
   "outputs": [
    {
     "name": "stdout",
     "output_type": "stream",
     "text": [
      "      startTime     Open     High      Low    Close    Volume       turnover  \\\n",
      "4  1.699547e+12  36530.1  36621.3  36481.0  36545.0   995.140   36378978.228   \n",
      "3  1.699547e+12  36545.0  36737.6  36506.0  36703.8   717.369  26289545.0936   \n",
      "2  1.699547e+12  36703.8  36728.8  36620.0  36625.8   608.348  22319278.1389   \n",
      "1  1.699547e+12  36625.8  36661.7  36571.6  36587.9   975.351  35709916.6563   \n",
      "0  1.699547e+12  36587.9  36735.9  36587.9  36688.1  1035.130  37977385.1119   \n",
      "\n",
      "            Timestamp  SMA_short_term  SMA_long_term      BB_upper  \\\n",
      "4 2023-11-09 16:17:00        36573.34      36894.500  37482.264403   \n",
      "3 2023-11-09 16:18:00        36619.58      36873.190  37455.886479   \n",
      "2 2023-11-09 16:19:00        36621.12      36847.320  37425.466478   \n",
      "1 2023-11-09 16:20:00        36598.52      36816.090  37378.442101   \n",
      "0 2023-11-09 16:21:00        36630.12      36788.895  37318.194121   \n",
      "\n",
      "       BB_lower  BB_middle        RSI  \n",
      "4  36306.735597  36894.500  29.532924  \n",
      "3  36290.493521  36873.190  36.985734  \n",
      "2  36269.173522  36847.320  36.985734  \n",
      "1  36253.737899  36816.090  36.437861  \n",
      "0  36259.595879  36788.895  43.423575  \n"
     ]
    }
   ],
   "source": [
    "# RSIを計算して新たなカラムとして追加\n",
    "window = 14  # RSIのウィンドウ期間（例：14分）\n",
    "\n",
    "df['RSI'] = calc.calculate_rsi(df, 'Close', window)\n",
    "\n",
    "# 結果を表示\n",
    "print(df.tail())"
   ]
  },
  {
   "cell_type": "code",
   "execution_count": 31,
   "id": "c6583192-229b-402a-b326-62594a48caf7",
   "metadata": {},
   "outputs": [
    {
     "name": "stdout",
     "output_type": "stream",
     "text": [
      "      startTime     Open     High      Low    Close    Volume       turnover  \\\n",
      "4  1.699547e+12  36530.1  36621.3  36481.0  36545.0   995.140   36378978.228   \n",
      "3  1.699547e+12  36545.0  36737.6  36506.0  36703.8   717.369  26289545.0936   \n",
      "2  1.699547e+12  36703.8  36728.8  36620.0  36625.8   608.348  22319278.1389   \n",
      "1  1.699547e+12  36625.8  36661.7  36571.6  36587.9   975.351  35709916.6563   \n",
      "0  1.699547e+12  36587.9  36735.9  36587.9  36688.1  1035.130  37977385.1119   \n",
      "\n",
      "            Timestamp  SMA_short_term  SMA_long_term      BB_upper  \\\n",
      "4 2023-11-09 16:17:00        36573.34      36894.500  37482.264403   \n",
      "3 2023-11-09 16:18:00        36619.58      36873.190  37455.886479   \n",
      "2 2023-11-09 16:19:00        36621.12      36847.320  37425.466478   \n",
      "1 2023-11-09 16:20:00        36598.52      36816.090  37378.442101   \n",
      "0 2023-11-09 16:21:00        36630.12      36788.895  37318.194121   \n",
      "\n",
      "       BB_lower  BB_middle        RSI        MACD  Signal_line  \n",
      "4  36306.735597  36894.500  29.532924 -211.451415  -186.279477  \n",
      "3  36290.493521  36873.190  36.985734 -196.106185  -188.244819  \n",
      "2  36269.173522  36847.320  36.985734 -188.070961  -188.210047  \n",
      "1  36253.737899  36816.090  36.437861 -182.655661  -187.099170  \n",
      "0  36259.595879  36788.895  43.423575 -168.338197  -183.346975  \n"
     ]
    }
   ],
   "source": [
    "# MACDおよびシグナルラインを計算して新たなカラムとして追加\n",
    "short_window = 12  # 短期EMAのウィンドウ期間（例：12分）\n",
    "long_window = 26   # 長期EMAのウィンドウ期間（例：26分）\n",
    "signal_window = 9  # シグナルラインのウィンドウ期間（例：9分）\n",
    "\n",
    "df['MACD'], df['Signal_line'] = calc.calculate_macd(df, 'Close', short_window, long_window, signal_window)\n",
    "\n",
    "# 結果を表示\n",
    "print(df.tail())"
   ]
  },
  {
   "cell_type": "code",
   "execution_count": 32,
   "id": "c5ee0f6f-1c1d-4f43-8f65-2f4bae8e11af",
   "metadata": {},
   "outputs": [
    {
     "name": "stdout",
     "output_type": "stream",
     "text": [
      "      startTime     Open     High      Low    Close    Volume       turnover  \\\n",
      "4  1.699547e+12  36530.1  36621.3  36481.0  36545.0   995.140   36378978.228   \n",
      "3  1.699547e+12  36545.0  36737.6  36506.0  36703.8   717.369  26289545.0936   \n",
      "2  1.699547e+12  36703.8  36728.8  36620.0  36625.8   608.348  22319278.1389   \n",
      "1  1.699547e+12  36625.8  36661.7  36571.6  36587.9   975.351  35709916.6563   \n",
      "0  1.699547e+12  36587.9  36735.9  36587.9  36688.1  1035.130  37977385.1119   \n",
      "\n",
      "            Timestamp  SMA_short_term  SMA_long_term      BB_upper  \\\n",
      "4 2023-11-09 16:17:00        36573.34      36894.500  37482.264403   \n",
      "3 2023-11-09 16:18:00        36619.58      36873.190  37455.886479   \n",
      "2 2023-11-09 16:19:00        36621.12      36847.320  37425.466478   \n",
      "1 2023-11-09 16:20:00        36598.52      36816.090  37378.442101   \n",
      "0 2023-11-09 16:21:00        36630.12      36788.895  37318.194121   \n",
      "\n",
      "       BB_lower  BB_middle        RSI        MACD  Signal_line  \\\n",
      "4  36306.735597  36894.500  29.532924 -211.451415  -186.279477   \n",
      "3  36290.493521  36873.190  36.985734 -196.106185  -188.244819   \n",
      "2  36269.173522  36847.320  36.985734 -188.070961  -188.210047   \n",
      "1  36253.737899  36816.090  36.437861 -182.655661  -187.099170   \n",
      "0  36259.595879  36788.895  43.423575 -168.338197  -183.346975   \n",
      "\n",
      "   Historical_volatility  \n",
      "4               6.457302  \n",
      "3               6.878386  \n",
      "2               6.879284  \n",
      "1               6.875526  \n",
      "0               6.888129  \n"
     ]
    }
   ],
   "source": [
    "# ヒストリカルボラティリティを計算して新たなカラムとして追加\n",
    "window = 14  # ヒストリカルボラティリティのウィンドウ期間（例：14分）\n",
    "\n",
    "df['Historical_volatility'] = calc.calculate_historical_volatility(df, 'Close', window)\n",
    "\n",
    "# 結果を表示\n",
    "print(df.tail())"
   ]
  },
  {
   "cell_type": "code",
   "execution_count": 33,
   "id": "434c6b70-dd24-4ead-bfce-5d0d50e34ac2",
   "metadata": {},
   "outputs": [
    {
     "name": "stdout",
     "output_type": "stream",
     "text": [
      "      startTime     Open     High      Low    Close    Volume       turnover  \\\n",
      "4  1.699547e+12  36530.1  36621.3  36481.0  36545.0   995.140   36378978.228   \n",
      "3  1.699547e+12  36545.0  36737.6  36506.0  36703.8   717.369  26289545.0936   \n",
      "2  1.699547e+12  36703.8  36728.8  36620.0  36625.8   608.348  22319278.1389   \n",
      "1  1.699547e+12  36625.8  36661.7  36571.6  36587.9   975.351  35709916.6563   \n",
      "0  1.699547e+12  36587.9  36735.9  36587.9  36688.1  1035.130  37977385.1119   \n",
      "\n",
      "            Timestamp  SMA_short_term  SMA_long_term      BB_upper  \\\n",
      "4 2023-11-09 16:17:00        36573.34      36894.500  37482.264403   \n",
      "3 2023-11-09 16:18:00        36619.58      36873.190  37455.886479   \n",
      "2 2023-11-09 16:19:00        36621.12      36847.320  37425.466478   \n",
      "1 2023-11-09 16:20:00        36598.52      36816.090  37378.442101   \n",
      "0 2023-11-09 16:21:00        36630.12      36788.895  37318.194121   \n",
      "\n",
      "       BB_lower  BB_middle        RSI        MACD  Signal_line  \\\n",
      "4  36306.735597  36894.500  29.532924 -211.451415  -186.279477   \n",
      "3  36290.493521  36873.190  36.985734 -196.106185  -188.244819   \n",
      "2  36269.173522  36847.320  36.985734 -188.070961  -188.210047   \n",
      "1  36253.737899  36816.090  36.437861 -182.655661  -187.099170   \n",
      "0  36259.595879  36788.895  43.423575 -168.338197  -183.346975   \n",
      "\n",
      "   Historical_volatility         %K         %D  \n",
      "4               6.457302  31.751599  34.997127  \n",
      "3               6.878386  49.380887  36.497428  \n",
      "2               6.879284  44.019030  41.717172  \n",
      "1               6.875526  42.988478  45.462798  \n",
      "0               6.888129  61.928307  49.645271  \n"
     ]
    }
   ],
   "source": [
    "# ストキャスティクスを計算して新たなカラムとして追加\n",
    "k_window = 14  # %Kのウィンドウ期間（例：14分）\n",
    "d_window = 3   # %Dのウィンドウ期間（例：3分）\n",
    "\n",
    "df['%K'], df['%D'] = calc.calculate_stochastics(df, 'High', 'Low', 'Close', k_window, d_window)\n",
    "\n",
    "# 結果を表示\n",
    "print(df.tail())"
   ]
  },
  {
   "cell_type": "code",
   "execution_count": 34,
   "id": "1de3347e-c69d-4b23-b1e5-f0b49510a5b8",
   "metadata": {},
   "outputs": [
    {
     "name": "stdout",
     "output_type": "stream",
     "text": [
      "      startTime     Open     High      Low    Close    Volume       turnover  \\\n",
      "4  1.699547e+12  36530.1  36621.3  36481.0  36545.0   995.140   36378978.228   \n",
      "3  1.699547e+12  36545.0  36737.6  36506.0  36703.8   717.369  26289545.0936   \n",
      "2  1.699547e+12  36703.8  36728.8  36620.0  36625.8   608.348  22319278.1389   \n",
      "1  1.699547e+12  36625.8  36661.7  36571.6  36587.9   975.351  35709916.6563   \n",
      "0  1.699547e+12  36587.9  36735.9  36587.9  36688.1  1035.130  37977385.1119   \n",
      "\n",
      "            Timestamp  SMA_short_term  SMA_long_term      BB_upper  \\\n",
      "4 2023-11-09 16:17:00        36573.34      36894.500  37482.264403   \n",
      "3 2023-11-09 16:18:00        36619.58      36873.190  37455.886479   \n",
      "2 2023-11-09 16:19:00        36621.12      36847.320  37425.466478   \n",
      "1 2023-11-09 16:20:00        36598.52      36816.090  37378.442101   \n",
      "0 2023-11-09 16:21:00        36630.12      36788.895  37318.194121   \n",
      "\n",
      "       BB_lower  BB_middle        RSI        MACD  Signal_line  \\\n",
      "4  36306.735597  36894.500  29.532924 -211.451415  -186.279477   \n",
      "3  36290.493521  36873.190  36.985734 -196.106185  -188.244819   \n",
      "2  36269.173522  36847.320  36.985734 -188.070961  -188.210047   \n",
      "1  36253.737899  36816.090  36.437861 -182.655661  -187.099170   \n",
      "0  36259.595879  36788.895  43.423575 -168.338197  -183.346975   \n",
      "\n",
      "   Historical_volatility         %K         %D        OBV  \n",
      "4               6.457302  31.751599  34.997127 -14507.116  \n",
      "3               6.878386  49.380887  36.497428 -14392.337  \n",
      "2               6.879284  44.019030  41.717172 -14530.866  \n",
      "1               6.875526  42.988478  45.462798 -14666.771  \n",
      "0               6.888129  61.928307  49.645271 -14725.668  \n"
     ]
    }
   ],
   "source": [
    "# オンバランスボリュームを計算して新たなカラムとして追加\n",
    "df['OBV'] = calc.calculate_obv(df, 'Close', 'Volume')\n",
    "\n",
    "# 結果を表示\n",
    "print(df.tail())"
   ]
  },
  {
   "cell_type": "code",
   "execution_count": 41,
   "id": "bc29293d-ab0a-48f8-a6da-0f6df70324bc",
   "metadata": {},
   "outputs": [],
   "source": [
    "Timestamp=df.tail(1)['Timestamp'][0]"
   ]
  },
  {
   "cell_type": "code",
   "execution_count": 42,
   "id": "f75b5ed0-da43-435a-bdc5-b3b15b7643db",
   "metadata": {},
   "outputs": [],
   "source": [
    "# 不要な列を削除\n",
    "df = df.drop(['startTime', 'Timestamp', 'Open', 'High', 'Low', 'Close', 'Volume', 'turnover'], axis=1).dropna()\n",
    "\n"
   ]
  },
  {
   "cell_type": "code",
   "execution_count": 43,
   "id": "0d1a3009-4150-4e04-988c-ed6a4d37c430",
   "metadata": {},
   "outputs": [
    {
     "data": {
      "text/plain": [
       "array([[0.23248435, 0.3829606 , 0.38455506]])"
      ]
     },
     "execution_count": 43,
     "metadata": {},
     "output_type": "execute_result"
    }
   ],
   "source": [
    "last_row = df.tail(1)\n",
    "model.predict(last_row)"
   ]
  },
  {
   "cell_type": "code",
   "execution_count": 44,
   "id": "43d73f26-1e87-4b1d-8609-c1aa25eeda38",
   "metadata": {},
   "outputs": [],
   "source": [
    "pre = pd.DataFrame(model.predict(last_row),columns=['pr0','pr1','pr2'])"
   ]
  },
  {
   "cell_type": "code",
   "execution_count": 45,
   "id": "d9189c6e-6ae5-4019-bc9e-065008492029",
   "metadata": {},
   "outputs": [],
   "source": [
    "df_out = pd.concat([last_row, pre], axis=1)"
   ]
  },
  {
   "cell_type": "code",
   "execution_count": 46,
   "id": "fe6d1a29-b102-4bc3-a700-b106ae41195d",
   "metadata": {},
   "outputs": [],
   "source": [
    "df_out.index=[Timestamp]"
   ]
  },
  {
   "cell_type": "code",
   "execution_count": 47,
   "id": "dcc39a04-f332-4d4f-909a-f4d7e6505483",
   "metadata": {},
   "outputs": [],
   "source": [
    "df_out.to_csv('out.csv')"
   ]
  },
  {
   "cell_type": "code",
   "execution_count": 21,
   "id": "7a099cbf-6aee-455f-a4ab-ba1538d428bd",
   "metadata": {},
   "outputs": [],
   "source": [
    "out = pd.read_csv('out.csv')"
   ]
  },
  {
   "cell_type": "code",
   "execution_count": 23,
   "id": "373cad8c-26ea-4fd5-9cde-e6fd356db1a0",
   "metadata": {},
   "outputs": [],
   "source": [
    "df_out = pd.concat([out, df_out], axis=0)"
   ]
  },
  {
   "cell_type": "code",
   "execution_count": null,
   "id": "1113ed33-0346-42de-af80-cac24fbcd73c",
   "metadata": {},
   "outputs": [],
   "source": []
  }
 ],
 "metadata": {
  "kernelspec": {
   "display_name": "Python 3 (ipykernel)",
   "language": "python",
   "name": "python3"
  },
  "language_info": {
   "codemirror_mode": {
    "name": "ipython",
    "version": 3
   },
   "file_extension": ".py",
   "mimetype": "text/x-python",
   "name": "python",
   "nbconvert_exporter": "python",
   "pygments_lexer": "ipython3",
   "version": "3.8.12"
  }
 },
 "nbformat": 4,
 "nbformat_minor": 5
}
